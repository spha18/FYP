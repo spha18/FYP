{
 "cells": [
  {
   "cell_type": "code",
   "execution_count": 23,
   "id": "fa3aff00",
   "metadata": {},
   "outputs": [
    {
     "name": "stdout",
     "output_type": "stream",
     "text": [
      "running 12\n",
      "[WinError 183] Cannot create a file when that file already exists: './pilot/PNES/output/12\\\\jsons'\n",
      "finished 12\n",
      "running 14\n",
      "[WinError 183] Cannot create a file when that file already exists: './pilot/PNES/output/14\\\\jsons'\n",
      "finished 14\n",
      "running 17\n",
      "[WinError 183] Cannot create a file when that file already exists: './pilot/PNES/output/17\\\\jsons'\n",
      "finished 17\n",
      "running 3\n",
      "[WinError 183] Cannot create a file when that file already exists: './pilot/PNES/output/3\\\\jsons'\n",
      "finished 3\n"
     ]
    }
   ],
   "source": [
    "import shutil\n",
    "import os\n",
    "import re\n",
    "\n",
    "folder_path =\"./pilot/PNES/output/\" # where the folders are saved\n",
    "\n",
    "header = \"Nose_x,Nose_y,Nose_c,Neck_x,Neck_y,Neck_c,RShoulder_x,RShoulder_y,RShoulder_c,RElbow_x,RElbow_y,RElbow_c,RWrist_x,RWrist_y,RWrist_c,LShoulder_x,LShoulder_y,LShoulder_c,LElbow_x,LElbow_y,LElbow_c,LWrist_x,LWrist_y,LWrist_c,MidHip_x,MidHip_y,MidHip_c,RHip_x,RHip_y,RHip_c,RKnee_x,RKnee_y,RKnee_c,RAnkle_x,RAnkle_y,RAnkle_c,LHip_x,LHip_y,LHip_c,LKnee_x,LKnee_y,LKnee_c,LAnkle_x,LAnkle_y,LAnkle_c,REye_x,REye_y,REye_c,LEye_x,LEye_y,LEye_c,REar_x,REar_y,REar_c,LEar_x,LEar_y,LEar_c,LBigToe_x,LBigToe_y,LBigToe_c,LSmallToe_x,LSmallToe_y,LSmallToe_c,LHeel_x,LHeel_y,LHeel_c,RBigToe_x,RBigToe_y,RBigToe_c,RSmallToe_x,RSmallToe_y,RSmallToe_c,RHeel_x,RHeel_y,RHeel_c\"\n",
    "start = \"{\\\"version\\\":1.3,\\\"people\\\":[{\\\"person_id\\\":[-1],\\\"pose_keypoints_2d\\\":[\"\n",
    "end = \"],\\\"face_keypoints_2d\"\n",
    "\n",
    "for folder in os.listdir(folder_path):\n",
    "    jason_path = os.path.join(folder_path, folder) # where the jason files are saved\n",
    "    if os.path.isdir(jason_path):\n",
    "        print(\" \".join([\"running\",folder]))\n",
    "        output_f = open(os.path.join(jason_path, \"keypoints.csv\"), \"w\")\n",
    "        output_f.write(header) # write header\n",
    "        output_f.write(\"\\n\")\n",
    "        output_f.close()\n",
    "        \n",
    "        try:\n",
    "            os.mkdir(os.path.join(jason_path, \"jsons\")) \n",
    "        except OSError as error: \n",
    "            print(error)\n",
    "            \n",
    "        sorted_files =  sorted(os.listdir(jason_path))\n",
    "        for file in sorted_files:\n",
    "            if file.endswith(\".json\") or file.endswith(\".JSON\"): # read in ALL jason files in the directory\n",
    "                string = \"\"\n",
    "                input_f = os.path.join(jason_path, file)\n",
    "                data = open(input_f, \"r\").read() # read in jason file as string\n",
    "                if len(data.split(start)) > 1:\n",
    "                    keypoints = (data.split(start))[1].split(end)[0] # extract useful bit\n",
    "                    output_f = open(os.path.join(jason_path, \"keypoints.csv\"), \"a\")\n",
    "                    output_f.write(keypoints) # append to csv file\n",
    "                    output_f.write(\"\\n\")\n",
    "                    output_f.close()\n",
    "                shutil.move(input_f, os.path.join(jason_path, \"jsons\"))\n",
    "        print(\" \".join([\"finished\",folder]))"
   ]
  }
 ],
 "metadata": {
  "kernelspec": {
   "display_name": "Python 3",
   "language": "python",
   "name": "python3"
  },
  "language_info": {
   "codemirror_mode": {
    "name": "ipython",
    "version": 3
   },
   "file_extension": ".py",
   "mimetype": "text/x-python",
   "name": "python",
   "nbconvert_exporter": "python",
   "pygments_lexer": "ipython3",
   "version": "3.8.8"
  }
 },
 "nbformat": 4,
 "nbformat_minor": 5
}
