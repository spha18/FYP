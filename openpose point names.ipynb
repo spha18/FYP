{
 "cells": [
  {
   "cell_type": "code",
   "execution_count": 24,
   "id": "ad2c342c",
   "metadata": {},
   "outputs": [
    {
     "name": "stdout",
     "output_type": "stream",
     "text": [
      "['Nose_x', 'Nose_y', 'Nose_c', 'Neck_x', 'Neck_y', 'Neck_c', 'RShoulder_x', 'RShoulder_y', 'RShoulder_c', 'RElbow_x', 'RElbow_y', 'RElbow_c', 'RWrist_x', 'RWrist_y', 'RWrist_c', 'LShoulder_x', 'LShoulder_y', 'LShoulder_c', 'LElbow_x', 'LElbow_y', 'LElbow_c', 'LWrist_x', 'LWrist_y', 'LWrist_c', 'MidHip_x', 'MidHip_y', 'MidHip_c', 'RHip_x', 'RHip_y', 'RHip_c', 'RKnee_x', 'RKnee_y', 'RKnee_c', 'RAnkle_x', 'RAnkle_y', 'RAnkle_c', 'LHip_x', 'LHip_y', 'LHip_c', 'LKnee_x', 'LKnee_y', 'LKnee_c', 'LAnkle_x', 'LAnkle_y', 'LAnkle_c', 'REye_x', 'REye_y', 'REye_c', 'LEye_x', 'LEye_y', 'LEye_c', 'REar_x', 'REar_y', 'REar_c', 'LEar_x', 'LEar_y', 'LEar_c', 'LBigToe_x', 'LBigToe_y', 'LBigToe_c', 'LSmallToe_x', 'LSmallToe_y', 'LSmallToe_c', 'LHeel_x', 'LHeel_y', 'LHeel_c', 'RBigToe_x', 'RBigToe_y', 'RBigToe_c', 'RSmallToe_x', 'RSmallToe_y', 'RSmallToe_c', 'RHeel_x', 'RHeel_y', 'RHeel_c', 'Background_x', 'Background_y', 'Background_c']\n",
      "Nose_x,Nose_y,Nose_c,Neck_x,Neck_y,Neck_c,RShoulder_x,RShoulder_y,RShoulder_c,RElbow_x,RElbow_y,RElbow_c,RWrist_x,RWrist_y,RWrist_c,LShoulder_x,LShoulder_y,LShoulder_c,LElbow_x,LElbow_y,LElbow_c,LWrist_x,LWrist_y,LWrist_c,MidHip_x,MidHip_y,MidHip_c,RHip_x,RHip_y,RHip_c,RKnee_x,RKnee_y,RKnee_c,RAnkle_x,RAnkle_y,RAnkle_c,LHip_x,LHip_y,LHip_c,LKnee_x,LKnee_y,LKnee_c,LAnkle_x,LAnkle_y,LAnkle_c,REye_x,REye_y,REye_c,LEye_x,LEye_y,LEye_c,REar_x,REar_y,REar_c,LEar_x,LEar_y,LEar_c,LBigToe_x,LBigToe_y,LBigToe_c,LSmallToe_x,LSmallToe_y,LSmallToe_c,LHeel_x,LHeel_y,LHeel_c,RBigToe_x,RBigToe_y,RBigToe_c,RSmallToe_x,RSmallToe_y,RSmallToe_c,RHeel_x,RHeel_y,RHeel_c,Background_x,Background_y,Background_c\n"
     ]
    }
   ],
   "source": [
    "string = '//     {0,  \"Nose\"},//     {1,  \"Neck\"},//     {2,  \"RShoulder\"},//     {3,  \"RElbow\"},//     {4,  \"RWrist\"},//     {5,  \"LShoulder\"},//     {6,  \"LElbow\"},//     {7,  \"LWrist\"},//     {8,  \"MidHip\"},//     {9,  \"RHip\"},//     {10, \"RKnee\"},//     {11, \"RAnkle\"},//     {12, \"LHip\"},//     {13, \"LKnee\"},//     {14, \"LAnkle\"},//     {15, \"REye\"},//     {16, \"LEye\"},//     {17, \"REar\"},//     {18, \"LEar\"},//     {19, \"LBigToe\"},//     {20, \"LSmallToe\"},//     {21, \"LHeel\"},//     {22, \"RBigToe\"},//     {23, \"RSmallToe\"},//     {24, \"RHeel\"},//     {25, \"Background\"}\"'\n",
    "x = string.split()\n",
    "string = ''.join(x)\n",
    "x = string.split('//')\n",
    "string = ''.join(x)\n",
    "x = string.split('{')\n",
    "string = ''.join(x)\n",
    "x = string.split('}')\n",
    "string = ''.join(x)\n",
    "x = string.split('\"')\n",
    "string = ''.join(x)\n",
    "x = string.split(',')\n",
    "y = []\n",
    "for element in x:\n",
    "    if element.isalpha():\n",
    "        y.append(\"_\".join([element, \"x\"]))\n",
    "        y.append(\"_\".join([element, \"y\"]))\n",
    "        y.append(\"_\".join([element, \"c\"]))\n",
    "string = ','.join(y)\n",
    "print(string)"
   ]
  }
 ],
 "metadata": {
  "kernelspec": {
   "display_name": "Python 3",
   "language": "python",
   "name": "python3"
  },
  "language_info": {
   "codemirror_mode": {
    "name": "ipython",
    "version": 3
   },
   "file_extension": ".py",
   "mimetype": "text/x-python",
   "name": "python",
   "nbconvert_exporter": "python",
   "pygments_lexer": "ipython3",
   "version": "3.8.8"
  }
 },
 "nbformat": 4,
 "nbformat_minor": 5
}
