{
 "cells": [
  {
   "cell_type": "code",
   "execution_count": null,
   "id": "0d5e9dfe",
   "metadata": {},
   "outputs": [],
   "source": [
    "%matplotlib inline\n",
    "import numpy as np\n",
    "import pandas as pd\n",
    "import matplotlib.pyplot as plt"
   ]
  },
  {
   "cell_type": "code",
   "execution_count": null,
   "id": "146c44d2",
   "metadata": {},
   "outputs": [],
   "source": [
    "dataframe = pd.read_csv('ES.csv')"
   ]
  },
  {
   "cell_type": "code",
   "execution_count": null,
   "id": "cc4182b3",
   "metadata": {
    "scrolled": true
   },
   "outputs": [],
   "source": [
    "rolavg = dataframe.rolling(100).mean()"
   ]
  },
  {
   "cell_type": "code",
   "execution_count": null,
   "id": "0ef829f6",
   "metadata": {},
   "outputs": [],
   "source": [
    "rolavg = rolavg.dropna()"
   ]
  },
  {
   "cell_type": "code",
   "execution_count": null,
   "id": "30b7c7ae",
   "metadata": {},
   "outputs": [],
   "source": [
    "rolavg = rolavg.reset_index(drop=True)"
   ]
  },
  {
   "cell_type": "code",
   "execution_count": null,
   "id": "0714f8ff",
   "metadata": {},
   "outputs": [],
   "source": [
    "rolavg.to_csv(\"ESrolavg.csv\", index=False)"
   ]
  },
  {
   "cell_type": "code",
   "execution_count": null,
   "id": "f02ac43c",
   "metadata": {},
   "outputs": [],
   "source": [
    "rolavg"
   ]
  },
  {
   "cell_type": "code",
   "execution_count": null,
   "id": "dd748bdb",
   "metadata": {},
   "outputs": [],
   "source": [
    "dataframe"
   ]
  },
  {
   "cell_type": "code",
   "execution_count": null,
   "id": "38919c09",
   "metadata": {},
   "outputs": [],
   "source": [
    "axs = rolavg[\"keypoint_1_x\"].plot(figsize=(200, 4))"
   ]
  }
 ],
 "metadata": {
  "kernelspec": {
   "display_name": "Python 3",
   "language": "python",
   "name": "python3"
  },
  "language_info": {
   "codemirror_mode": {
    "name": "ipython",
    "version": 3
   },
   "file_extension": ".py",
   "mimetype": "text/x-python",
   "name": "python",
   "nbconvert_exporter": "python",
   "pygments_lexer": "ipython3",
   "version": "3.8.8"
  }
 },
 "nbformat": 4,
 "nbformat_minor": 5
}
