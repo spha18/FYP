{
 "cells": [
  {
   "cell_type": "code",
   "execution_count": 1,
   "id": "b9f353bc",
   "metadata": {
    "scrolled": true
   },
   "outputs": [],
   "source": [
    "import os\n",
    "import numpy as np\n",
    "import pandas as pd\n",
    "from tensorflow.keras.utils import to_categorical\n",
    "\n",
    "PNES_path =\"../pilot/PNES/\" # where the folders are saved\n",
    "ES_path =\"../pilot/ES/\"\n",
    "\n",
    "length = float('inf')\n",
    "PNESdata = []\n",
    "ESdata = []"
   ]
  },
  {
   "cell_type": "code",
   "execution_count": 2,
   "id": "48ab992a",
   "metadata": {},
   "outputs": [
    {
     "name": "stdout",
     "output_type": "stream",
     "text": [
      "3341\n",
      "3301\n"
     ]
    }
   ],
   "source": [
    "pose_path = os.path.join(PNES_path, \"OpenPose Pose\")\n",
    "\n",
    "for csv in os.listdir(pose_path):\n",
    "    if csv.endswith(\".csv\") or csv.endswith(\".CSV\"):\n",
    "        dataframe = pd.read_csv(os.path.join(pose_path, csv), header=None, skiprows=1)\n",
    "        rolavg = dataframe.rolling(100).mean()\n",
    "        rolavg = rolavg.dropna()\n",
    "        rolavg = rolavg.reset_index(drop=True)\n",
    "        PNESdata.append(rolavg.values)\n",
    "        if rolavg.values.shape[0] < length:\n",
    "            length = rolavg.values.shape[0]\n",
    "            print(length)"
   ]
  },
  {
   "cell_type": "code",
   "execution_count": 3,
   "id": "abaa06c9",
   "metadata": {},
   "outputs": [
    {
     "name": "stdout",
     "output_type": "stream",
     "text": [
      "3181\n",
      "2170\n"
     ]
    }
   ],
   "source": [
    "pose_path = os.path.join(ES_path, \"OpenPose Pose\")\n",
    "\n",
    "for csv in os.listdir(pose_path):\n",
    "    if csv.endswith(\".csv\") or csv.endswith(\".CSV\"):\n",
    "        dataframe = pd.read_csv(os.path.join(pose_path, csv), header=None, skiprows=1)\n",
    "        rolavg = dataframe.rolling(100).mean()\n",
    "        rolavg = rolavg.dropna()\n",
    "        rolavg = rolavg.reset_index(drop=True)\n",
    "        ESdata.append(rolavg.values)\n",
    "        if rolavg.values.shape[0] < length:\n",
    "            length = rolavg.values.shape[0]\n",
    "            print(length)"
   ]
  },
  {
   "cell_type": "code",
   "execution_count": 4,
   "id": "8e8fc29f",
   "metadata": {},
   "outputs": [],
   "source": [
    "for idx, array in enumerate(PNESdata):\n",
    "    PNESdata[idx] = array[:length,::]\n",
    "    \n",
    "PNESarray = np.array(PNESdata)\n",
    "PNESlabel = np.reshape(np.zeros(PNESarray.shape[0]),[PNESarray.shape[0],1])\n",
    "\n",
    "for idx, array in enumerate(ESdata):\n",
    "    ESdata[idx] = array[:length,::]\n",
    "    \n",
    "ESarray = np.array(ESdata)\n",
    "ESlabel = np.reshape(np.ones(ESarray.shape[0]),[ESarray.shape[0],1])\n",
    "\n",
    "X = np.concatenate((PNESarray,ESarray),axis=0)\n",
    "y = np.concatenate((PNESlabel,ESlabel),axis=0)\n",
    "y = to_categorical(y)"
   ]
  },
  {
   "cell_type": "code",
   "execution_count": 5,
   "id": "940aa7e5",
   "metadata": {},
   "outputs": [
    {
     "name": "stdout",
     "output_type": "stream",
     "text": [
      "(11, 2170, 75)\n",
      "(16, 2170, 75)\n",
      "(11, 1)\n",
      "(16, 1)\n",
      "(27, 2170, 75)\n",
      "(27, 2)\n"
     ]
    }
   ],
   "source": [
    "print(PNESarray.shape)\n",
    "print(ESarray.shape)\n",
    "print(PNESlabel.shape)\n",
    "print(ESlabel.shape)\n",
    "print(X.shape)\n",
    "print(y.shape)"
   ]
  },
  {
   "cell_type": "code",
   "execution_count": 6,
   "id": "db3d12b6",
   "metadata": {},
   "outputs": [],
   "source": [
    "outfile = \"../Datasets/Pilot_Pose_Video_RolAvg100.npz\"\n",
    "np.savez(outfile, X, y)"
   ]
  }
 ],
 "metadata": {
  "kernelspec": {
   "display_name": "Python 3",
   "language": "python",
   "name": "python3"
  },
  "language_info": {
   "codemirror_mode": {
    "name": "ipython",
    "version": 3
   },
   "file_extension": ".py",
   "mimetype": "text/x-python",
   "name": "python",
   "nbconvert_exporter": "python",
   "pygments_lexer": "ipython3",
   "version": "3.8.8"
  }
 },
 "nbformat": 4,
 "nbformat_minor": 5
}
