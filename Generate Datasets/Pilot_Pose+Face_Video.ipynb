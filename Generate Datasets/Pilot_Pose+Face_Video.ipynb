{
 "cells": [
  {
   "cell_type": "code",
   "execution_count": 1,
   "id": "b9f353bc",
   "metadata": {
    "scrolled": true
   },
   "outputs": [],
   "source": [
    "import os\n",
    "import numpy as np\n",
    "import pandas as pd\n",
    "from tensorflow.keras.utils import to_categorical\n",
    "\n",
    "def load_file(filepath):\n",
    "\tdataframe = pd.read_csv(filepath, header=None, skiprows=1)\n",
    "\treturn dataframe.values\n",
    "\n",
    "PNES_path =\"../pilot/PNES/\" # where the folders are saved\n",
    "ES_path =\"../pilot/ES/\"\n",
    "\n",
    "length = float('inf')\n",
    "PNESdata = []\n",
    "ESdata = []"
   ]
  },
  {
   "cell_type": "code",
   "execution_count": 2,
   "id": "48ab992a",
   "metadata": {},
   "outputs": [
    {
     "name": "stdout",
     "output_type": "stream",
     "text": [
      "3440\n",
      "3400\n"
     ]
    }
   ],
   "source": [
    "pose_path = os.path.join(PNES_path, 'OpenPose Pose')\n",
    "face_path = os.path.join(PNES_path, 'OpenFace Normalised')\n",
    "for index in os.listdir(pose_path):\n",
    "    pose_csv = os.path.join(pose_path, index)\n",
    "    face_csv = os.path.join(face_path, index)\n",
    "    if pose_csv.endswith(\".csv\") or pose_csv.endswith(\".CSV\"):    \n",
    "        if face_csv.endswith(\".csv\") or face_csv.endswith(\".CSV\"):\n",
    "            pose_values = load_file(pose_csv)\n",
    "            face_values = load_file(face_csv)        \n",
    "            short = min(pose_values.shape[0],face_values.shape[0])\n",
    "            dataframe = np.concatenate((pose_values[:short,:],face_values[:short,3:]),1)\n",
    "            PNESdata.append(dataframe)\n",
    "            if short < length:\n",
    "                length = short\n",
    "                print(length)"
   ]
  },
  {
   "cell_type": "code",
   "execution_count": 3,
   "id": "abaa06c9",
   "metadata": {},
   "outputs": [
    {
     "name": "stdout",
     "output_type": "stream",
     "text": [
      "3280\n",
      "2269\n"
     ]
    }
   ],
   "source": [
    "pose_path = os.path.join(ES_path, 'OpenPose Pose')\n",
    "face_path = os.path.join(ES_path, 'OpenFace Normalised')\n",
    "for index in os.listdir(pose_path):\n",
    "    pose_csv = os.path.join(pose_path, index)\n",
    "    face_csv = os.path.join(face_path, index)\n",
    "    if pose_csv.endswith(\".csv\") or pose_csv.endswith(\".CSV\"):    \n",
    "        if face_csv.endswith(\".csv\") or face_csv.endswith(\".CSV\"):\n",
    "            pose_values = load_file(pose_csv)\n",
    "            face_values = load_file(face_csv)        \n",
    "            short = min(pose_values.shape[0],face_values.shape[0])\n",
    "            dataframe = np.concatenate((pose_values[:short,:],face_values[:short,3:]),1)\n",
    "            ESdata.append(dataframe)\n",
    "            if short < length:\n",
    "                length = short\n",
    "                print(length)"
   ]
  },
  {
   "cell_type": "code",
   "execution_count": 4,
   "id": "8e8fc29f",
   "metadata": {},
   "outputs": [],
   "source": [
    "for idx, array in enumerate(PNESdata):\n",
    "    PNESdata[idx] = array[:length,::]\n",
    "    \n",
    "PNESarray = np.array(PNESdata)\n",
    "PNESlabel = np.reshape(np.zeros(PNESarray.shape[0]),[PNESarray.shape[0],1])\n",
    "\n",
    "for idx, array in enumerate(ESdata):\n",
    "    ESdata[idx] = array[:length,::]\n",
    "    \n",
    "ESarray = np.array(ESdata)\n",
    "ESlabel = np.reshape(np.ones(ESarray.shape[0]),[ESarray.shape[0],1])\n",
    "\n",
    "X = np.concatenate((PNESarray,ESarray),axis=0)\n",
    "y = np.concatenate((PNESlabel,ESlabel),axis=0)\n",
    "y = to_categorical(y)"
   ]
  },
  {
   "cell_type": "code",
   "execution_count": 5,
   "id": "940aa7e5",
   "metadata": {},
   "outputs": [
    {
     "name": "stdout",
     "output_type": "stream",
     "text": [
      "(11, 2269, 786)\n",
      "(16, 2269, 786)\n",
      "(11, 1)\n",
      "(16, 1)\n",
      "(27, 2269, 786)\n",
      "(27, 2)\n"
     ]
    }
   ],
   "source": [
    "print(PNESarray.shape)\n",
    "print(ESarray.shape)\n",
    "print(PNESlabel.shape)\n",
    "print(ESlabel.shape)\n",
    "print(X.shape)\n",
    "print(y.shape)"
   ]
  },
  {
   "cell_type": "code",
   "execution_count": 6,
   "id": "db3d12b6",
   "metadata": {},
   "outputs": [],
   "source": [
    "outfile = \"../Datasets/Pilot_Pose+Face_Video.npz\"\n",
    "np.savez(outfile, X, y)"
   ]
  }
 ],
 "metadata": {
  "kernelspec": {
   "display_name": "Python 3",
   "language": "python",
   "name": "python3"
  },
  "language_info": {
   "codemirror_mode": {
    "name": "ipython",
    "version": 3
   },
   "file_extension": ".py",
   "mimetype": "text/x-python",
   "name": "python",
   "nbconvert_exporter": "python",
   "pygments_lexer": "ipython3",
   "version": "3.8.8"
  }
 },
 "nbformat": 4,
 "nbformat_minor": 5
}
