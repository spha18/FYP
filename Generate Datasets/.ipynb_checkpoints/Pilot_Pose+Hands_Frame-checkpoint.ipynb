{
 "cells": [
  {
   "cell_type": "code",
   "execution_count": 1,
   "id": "b9f353bc",
   "metadata": {
    "scrolled": true
   },
   "outputs": [],
   "source": [
    "import os\n",
    "import numpy as np\n",
    "import pandas as pd\n",
    "from tensorflow.keras.utils import to_categorical\n",
    "\n",
    "def load_file(filepath):\n",
    "\tdataframe = pd.read_csv(filepath, header=None, skiprows=1)\n",
    "\treturn dataframe.values\n",
    "\n",
    "PNES_path =\"../pilot/PNES/\" # where the folders are saved\n",
    "ES_path =\"../pilot/ES/\"\n",
    "\n",
    "PNESdata = []\n",
    "ESdata = []"
   ]
  },
  {
   "cell_type": "code",
   "execution_count": 2,
   "id": "48ab992a",
   "metadata": {},
   "outputs": [],
   "source": [
    "pose_path = os.path.join(PNES_path, 'OpenPose Pose')\n",
    "hands_path = os.path.join(PNES_path, 'OpenPose Hands')\n",
    "for index in os.listdir(pose_path):\n",
    "    pose_csv = os.path.join(pose_path, index)\n",
    "    hands_csv = os.path.join(hands_path, index)\n",
    "    if pose_csv.endswith(\".csv\") or pose_csv.endswith(\".CSV\"):    \n",
    "        if hands_csv.endswith(\".csv\") or hands_csv.endswith(\".CSV\"):\n",
    "            pose_values = load_file(pose_csv)\n",
    "            hands_values = load_file(hands_csv)\n",
    "            short = min(pose_values.shape[0],hands_values.shape[0])\n",
    "            dataframe = np.concatenate((pose_values[:short,:],hands_values[:short,:]),1)\n",
    "            PNESdata.append(dataframe)"
   ]
  },
  {
   "cell_type": "code",
   "execution_count": 3,
   "id": "abaa06c9",
   "metadata": {},
   "outputs": [],
   "source": [
    "pose_path = os.path.join(ES_path, 'OpenPose Pose')\n",
    "hands_path = os.path.join(ES_path, 'OpenPose Hands')\n",
    "for index in os.listdir(pose_path):\n",
    "    pose_csv = os.path.join(pose_path, index)\n",
    "    hands_csv = os.path.join(hands_path, index)\n",
    "    if pose_csv.endswith(\".csv\") or pose_csv.endswith(\".CSV\"):    \n",
    "        if hands_csv.endswith(\".csv\") or hands_csv.endswith(\".CSV\"):\n",
    "            pose_values = load_file(pose_csv)\n",
    "            hands_values = load_file(hands_csv)        \n",
    "            short = min(pose_values.shape[0],hands_values.shape[0])\n",
    "            dataframe = np.concatenate((pose_values[:short,:],hands_values[:short,:]),1)\n",
    "            ESdata.append(dataframe)"
   ]
  },
  {
   "cell_type": "code",
   "execution_count": 4,
   "id": "8e8fc29f",
   "metadata": {},
   "outputs": [],
   "source": [
    "PNESarray = np.vstack(PNESdata)\n",
    "PNESarray = np.reshape(PNESarray, [PNESarray.shape[0], 1, PNESarray.shape[1]])\n",
    "PNESlabel = np.reshape(np.zeros(PNESarray.shape[0]),[PNESarray.shape[0],1])\n",
    "\n",
    "ESarray = np.vstack(ESdata)\n",
    "ESarray = np.reshape(ESarray,[ESarray.shape[0], 1, ESarray.shape[1]])\n",
    "ESlabel = np.reshape(np.ones(ESarray.shape[0]),[ESarray.shape[0],1])\n",
    "\n",
    "X = np.concatenate((PNESarray,ESarray),axis=0)\n",
    "y = np.concatenate((PNESlabel,ESlabel),axis=0)\n",
    "y = to_categorical(y)"
   ]
  },
  {
   "cell_type": "code",
   "execution_count": 5,
   "id": "940aa7e5",
   "metadata": {},
   "outputs": [
    {
     "name": "stdout",
     "output_type": "stream",
     "text": [
      "(48719, 1, 201)\n",
      "(69111, 1, 201)\n",
      "(48719, 1)\n",
      "(69111, 1)\n",
      "(117830, 1, 201)\n",
      "(117830, 2)\n"
     ]
    }
   ],
   "source": [
    "print(PNESarray.shape)\n",
    "print(ESarray.shape)\n",
    "print(PNESlabel.shape)\n",
    "print(ESlabel.shape)\n",
    "print(X.shape)\n",
    "print(y.shape)"
   ]
  },
  {
   "cell_type": "code",
   "execution_count": 6,
   "id": "db3d12b6",
   "metadata": {},
   "outputs": [],
   "source": [
    "outfile = \"../Datasets/Pilot_Pose+Hands_Frame.npz\"\n",
    "np.savez(outfile, X, y)"
   ]
  }
 ],
 "metadata": {
  "kernelspec": {
   "display_name": "Python 3",
   "language": "python",
   "name": "python3"
  },
  "language_info": {
   "codemirror_mode": {
    "name": "ipython",
    "version": 3
   },
   "file_extension": ".py",
   "mimetype": "text/x-python",
   "name": "python",
   "nbconvert_exporter": "python",
   "pygments_lexer": "ipython3",
   "version": "3.8.8"
  }
 },
 "nbformat": 4,
 "nbformat_minor": 5
}
