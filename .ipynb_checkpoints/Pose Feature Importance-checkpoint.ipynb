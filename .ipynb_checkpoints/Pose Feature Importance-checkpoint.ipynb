{
 "cells": [
  {
   "cell_type": "code",
   "execution_count": 1,
   "id": "b9f353bc",
   "metadata": {
    "scrolled": true
   },
   "outputs": [],
   "source": [
    "import os\n",
    "import numpy as np\n",
    "import pandas as pd\n",
    "from sklearn.model_selection import train_test_split\n",
    "\n",
    "from tensorflow.keras.models import Sequential\n",
    "from tensorflow.keras.layers import Dense\n",
    "from tensorflow.keras.layers import Flatten\n",
    "from tensorflow.keras.layers import Dropout\n",
    "from tensorflow.keras.layers import LSTM\n",
    "from matplotlib import pyplot"
   ]
  },
  {
   "cell_type": "code",
   "execution_count": 2,
   "id": "c82083a7",
   "metadata": {},
   "outputs": [],
   "source": [
    "def evaluate_model(trainX, trainy, testX, testy):\n",
    "    verbose, epochs, batch_size = 0, 15, 64\n",
    "    n_timesteps, n_features, n_outputs = trainX.shape[1], trainX.shape[2], trainy.shape[1]\n",
    "    model = Sequential()\n",
    "    model.add(LSTM(100, input_shape=(n_timesteps,n_features)))\n",
    "    model.add(Dropout(0.5))\n",
    "    model.add(Dense(100, activation='relu'))\n",
    "    model.add(Dense(n_outputs, activation='softmax'))\n",
    "    model.compile(loss='binary_crossentropy', optimizer='adam', metrics=['accuracy'])\n",
    "    # fit network\n",
    "    model.fit(trainX, trainy, epochs=epochs, batch_size=batch_size, verbose=verbose)\n",
    "    # evaluate model\n",
    "    _, accuracy = model.evaluate(testX, testy, batch_size=batch_size, verbose=2)\n",
    "    return accuracy\n",
    "\n",
    "# summarize scores\n",
    "def summarize_results(scores):\n",
    "    print(scores)\n",
    "    m, s = np.mean(scores), np.std(scores)\n",
    "    print('Accuracy: %.3f%% (+/-%.3f)' % (m, s))\n",
    "\n",
    "# run an experiment\n",
    "def run_experiment(repeats=10):\n",
    "    # repeat experiment\n",
    "\n",
    "    scores = list()\n",
    "    for r in range(repeats):\n",
    "        trainX, testX, trainy, testy = train_test_split(X, y, test_size=0.2)\n",
    "        print(\"\".join([\"Features: \",f\"{X.shape[2]}\"]))\n",
    "        print(\"\".join([\"Timesteps: \",f\"{X.shape[1]}\"]))\n",
    "        print(\"\".join([\"Samples: \",f\"{X.shape[0]}\",\" (\",f\"{trainX.shape[0]}\",\" Train, \",f\"{testX.shape[0]}\",\" Test)\"]))\n",
    "        print(\"\".join([\"Training data: \",f\"{np.sum(trainy[:,1])}\",\" ES (\",f\"{np.mean(trainy[:,1]):.2%}\",\"), \",f\"{np.sum(trainy[:,0])}\",\" PNES (\",f\"{np.mean(trainy[:,0]):.2%}\",\")\"]))\n",
    "        print(\"\".join([\"Testing data: \",f\"{np.sum(testy[:,1])}\",\" ES (\",f\"{np.mean(testy[:,1]):.2%}\",\"), \",f\"{np.sum(testy[:,0])}\",\" PNES (\",f\"{np.mean(testy[:,0]):.2%}\",\")\"]))\n",
    "        score = evaluate_model(trainX, trainy, testX, testy)\n",
    "        score = score * 100.0\n",
    "        print('>#%d: %.3f' % (r+1, score))\n",
    "        print(\"\\n\")\n",
    "        scores.append(score)\n",
    "    # summarize results\n",
    "    summarize_results(scores)"
   ]
  },
  {
   "cell_type": "code",
   "execution_count": 3,
   "id": "a286ec81",
   "metadata": {},
   "outputs": [],
   "source": [
    "npzfile = np.load(\"./Datasets/Pilot_Pose_Frame.npz\")"
   ]
  },
  {
   "cell_type": "code",
   "execution_count": 4,
   "id": "940aa7e5",
   "metadata": {},
   "outputs": [],
   "source": [
    "X = npzfile[npzfile.files[0]]\n",
    "y = npzfile[npzfile.files[1]]"
   ]
  },
  {
   "cell_type": "code",
   "execution_count": 5,
   "id": "19be9118",
   "metadata": {},
   "outputs": [
    {
     "name": "stdout",
     "output_type": "stream",
     "text": [
      "Features: 75\n",
      "Timesteps: 1\n",
      "Samples: 61263 (49010 Train, 12253 Test)\n",
      "Training data: 29053.0 ES (59.28%), 19957.0 PNES (40.72%)\n",
      "Testing data: 7251.0 ES (59.18%), 5002.0 PNES (40.82%)\n",
      "192/192 - 0s - loss: 0.0350 - accuracy: 0.9847\n",
      ">#1: 98.474\n",
      "\n",
      "\n",
      "Features: 75\n",
      "Timesteps: 1\n",
      "Samples: 61263 (49010 Train, 12253 Test)\n",
      "Training data: 29014.0 ES (59.20%), 19996.0 PNES (40.80%)\n",
      "Testing data: 7290.0 ES (59.50%), 4963.0 PNES (40.50%)\n",
      "192/192 - 0s - loss: 0.0311 - accuracy: 0.9880\n",
      ">#2: 98.800\n",
      "\n",
      "\n",
      "Features: 75\n",
      "Timesteps: 1\n",
      "Samples: 61263 (49010 Train, 12253 Test)\n",
      "Training data: 29033.0 ES (59.24%), 19977.0 PNES (40.76%)\n",
      "Testing data: 7271.0 ES (59.34%), 4982.0 PNES (40.66%)\n",
      "192/192 - 0s - loss: 0.0306 - accuracy: 0.9865\n",
      ">#3: 98.653\n",
      "\n",
      "\n",
      "Features: 75\n",
      "Timesteps: 1\n",
      "Samples: 61263 (49010 Train, 12253 Test)\n",
      "Training data: 29016.0 ES (59.20%), 19994.0 PNES (40.80%)\n",
      "Testing data: 7288.0 ES (59.48%), 4965.0 PNES (40.52%)\n",
      "192/192 - 1s - loss: 0.0340 - accuracy: 0.9854\n",
      ">#4: 98.539\n",
      "\n",
      "\n",
      "Features: 75\n",
      "Timesteps: 1\n",
      "Samples: 61263 (49010 Train, 12253 Test)\n",
      "Training data: 29059.0 ES (59.29%), 19951.0 PNES (40.71%)\n",
      "Testing data: 7245.0 ES (59.13%), 5008.0 PNES (40.87%)\n",
      "192/192 - 0s - loss: 0.0351 - accuracy: 0.9846\n",
      ">#5: 98.458\n",
      "\n",
      "\n",
      "Features: 75\n",
      "Timesteps: 1\n",
      "Samples: 61263 (49010 Train, 12253 Test)\n",
      "Training data: 29105.0 ES (59.39%), 19905.0 PNES (40.61%)\n",
      "Testing data: 7199.0 ES (58.75%), 5054.0 PNES (41.25%)\n",
      "192/192 - 0s - loss: 0.0325 - accuracy: 0.9857\n",
      ">#6: 98.572\n",
      "\n",
      "\n",
      "Features: 75\n",
      "Timesteps: 1\n",
      "Samples: 61263 (49010 Train, 12253 Test)\n",
      "Training data: 29122.0 ES (59.42%), 19888.0 PNES (40.58%)\n",
      "Testing data: 7182.0 ES (58.61%), 5071.0 PNES (41.39%)\n",
      "192/192 - 0s - loss: 0.0345 - accuracy: 0.9856\n",
      ">#7: 98.564\n",
      "\n",
      "\n",
      "Features: 75\n",
      "Timesteps: 1\n",
      "Samples: 61263 (49010 Train, 12253 Test)\n",
      "Training data: 28996.0 ES (59.16%), 20014.0 PNES (40.84%)\n",
      "Testing data: 7308.0 ES (59.64%), 4945.0 PNES (40.36%)\n",
      "192/192 - 0s - loss: 0.0323 - accuracy: 0.9860\n",
      ">#8: 98.604\n",
      "\n",
      "\n",
      "Features: 75\n",
      "Timesteps: 1\n",
      "Samples: 61263 (49010 Train, 12253 Test)\n",
      "Training data: 29068.0 ES (59.31%), 19942.0 PNES (40.69%)\n",
      "Testing data: 7236.0 ES (59.05%), 5017.0 PNES (40.95%)\n",
      "192/192 - 0s - loss: 0.0339 - accuracy: 0.9860\n",
      ">#9: 98.596\n",
      "\n",
      "\n",
      "Features: 75\n",
      "Timesteps: 1\n",
      "Samples: 61263 (49010 Train, 12253 Test)\n",
      "Training data: 29014.0 ES (59.20%), 19996.0 PNES (40.80%)\n",
      "Testing data: 7290.0 ES (59.50%), 4963.0 PNES (40.50%)\n",
      "192/192 - 0s - loss: 0.0353 - accuracy: 0.9856\n",
      ">#10: 98.564\n",
      "\n",
      "\n",
      "[98.47384095191956, 98.80029559135437, 98.65339398384094, 98.53913187980652, 98.45752120018005, 98.57177734375, 98.56361746788025, 98.60442280769348, 98.59626293182373, 98.56361746788025]\n",
      "Accuracy: 98.582% (+/-0.091)\n"
     ]
    }
   ],
   "source": [
    "run_experiment()"
   ]
  },
  {
   "cell_type": "code",
   "execution_count": 10,
   "id": "d4f977d1",
   "metadata": {},
   "outputs": [
    {
     "name": "stdout",
     "output_type": "stream",
     "text": [
      "[[ 0.516655  0.246705  0.911472 ...  0.44745   0.858029  0.235596]\n",
      " [ 0.516655  0.246705  0.911472 ...  0.44745   0.858029  0.235596]\n",
      " [ 0.516655  0.246705  0.911472 ...  0.44745   0.858029  0.235596]\n",
      " ...\n",
      " [ 0.514636  0.233059  0.853867 ... -1.       -1.       -1.      ]\n",
      " [ 0.514653  0.233017  0.829053 ... -1.       -1.       -1.      ]\n",
      " [ 0.514654  0.230446  0.834399 ... -1.       -1.       -1.      ]]\n",
      "[0 0 0 ... 1 1 1]\n"
     ]
    }
   ],
   "source": [
    "Xb = np.reshape(X, [61263,75])\n",
    "print(Xb)\n",
    "yb = np.argmax(y, axis=-1)\n",
    "print(yb)"
   ]
  },
  {
   "cell_type": "code",
   "execution_count": 11,
   "id": "fc6d73cd",
   "metadata": {},
   "outputs": [
    {
     "name": "stdout",
     "output_type": "stream",
     "text": [
      "[2.797e+02 1.286e+02 1.687e+01 1.595e+02 5.056e+02 1.181e+02 4.331e+01\n",
      " 6.222e+02 2.708e+00 1.693e+01 3.316e+02 5.777e+02 6.385e+02 3.917e+02\n",
      " 5.743e+02 2.530e+01 8.019e+02 3.448e+02 6.094e+01 5.114e+01 1.067e+02\n",
      " 6.852e-01 1.189e+02 9.086e+01 8.576e+01 2.525e+02 1.114e+02 3.954e+02\n",
      " 7.634e+02 8.936e+01 3.992e+01 2.133e+00 4.443e+00 1.921e+02 3.365e+02\n",
      " 7.533e+01 1.876e+02 4.258e+02 3.456e+02 3.076e+02 6.173e+02 1.192e+03\n",
      " 2.228e+00 9.594e+00 7.914e+01 5.255e+02 1.802e+00 2.919e+02 4.564e+02\n",
      " 1.937e+03 1.138e+03 4.500e+02 1.117e+02 6.539e+01 2.690e+02 1.143e+03\n",
      " 6.349e+02 5.382e+02 7.370e+02 7.147e+02 7.141e+02 9.165e+02 8.143e+02\n",
      " 5.310e+02 6.397e+02 6.307e+02 3.187e+02 1.805e+02 4.613e+02 6.409e+02\n",
      " 4.038e+02 6.955e+02 1.186e+01 7.205e+01 9.733e+00]\n",
      "[[ 0.449  0.23   0.934 -1.   ]\n",
      " [ 0.449  0.23   0.934 -1.   ]\n",
      " [ 0.449  0.23   0.934 -1.   ]\n",
      " [ 0.53   0.23   0.944  0.244]\n",
      " [ 0.588  0.23   0.939  0.247]]\n"
     ]
    }
   ],
   "source": [
    "# Feature Selection with Univariate Statistical Tests\n",
    "from pandas import read_csv\n",
    "from numpy import set_printoptions\n",
    "from sklearn.feature_selection import SelectKBest\n",
    "from sklearn.feature_selection import f_classif\n",
    "\n",
    "# feature extraction\n",
    "test = SelectKBest(score_func=f_classif, k=4)\n",
    "fit = test.fit(Xb, yb)\n",
    "# summarize scores\n",
    "set_printoptions(precision=3)\n",
    "print(fit.scores_)"
   ]
  },
  {
   "cell_type": "code",
   "execution_count": 32,
   "id": "d224eb70",
   "metadata": {},
   "outputs": [
    {
     "name": "stdout",
     "output_type": "stream",
     "text": [
      "75\n"
     ]
    },
    {
     "data": {
      "image/png": "[encoded data removed]",
      "text/plain": [
       "<Figure size 1224x720 with 1 Axes>"
      ]
     },
     "metadata": {
      "needs_background": "light"
     },
     "output_type": "display_data"
    }
   ],
   "source": [
    "import matplotlib.pyplot as plt\n",
    "%matplotlib inline\n",
    "names = ['Nose_x', 'Nose_y', 'Nose_c', 'Neck_x', 'Neck_y', 'Neck_c', 'RShoulder_x', 'RShoulder_y', 'RShoulder_c', 'RElbow_x', 'RElbow_y', 'RElbow_c', 'RWrist_x', 'RWrist_y', 'RWrist_c', 'LShoulder_x', 'LShoulder_y', 'LShoulder_c', 'LElbow_x', 'LElbow_y', 'LElbow_c', 'LWrist_x', 'LWrist_y', 'LWrist_c', 'MidHip_x', 'MidHip_y', 'MidHip_c', 'RHip_x', 'RHip_y', 'RHip_c', 'RKnee_x', 'RKnee_y', 'RKnee_c', 'RAnkle_x', 'RAnkle_y', 'RAnkle_c', 'LHip_x', 'LHip_y', 'LHip_c', 'LKnee_x', 'LKnee_y', 'LKnee_c', 'LAnkle_x', 'LAnkle_y', 'LAnkle_c', 'REye_x', 'REye_y', 'REye_c', 'LEye_x', 'LEye_y', 'LEye_c', 'REar_x', 'REar_y', 'REar_c', 'LEar_x', 'LEar_y', 'LEar_c', 'LBigToe_x', 'LBigToe_y', 'LBigToe_c', 'LSmallToe_x', 'LSmallToe_y', 'LSmallToe_c', 'LHeel_x', 'LHeel_y', 'LHeel_c', 'RBigToe_x', 'RBigToe_y', 'RBigToe_c', 'RSmallToe_x', 'RSmallToe_y', 'RSmallToe_c', 'RHeel_x', 'RHeel_y', 'RHeel_c']\n",
    "print(len(names))\n",
    "plt.figure(figsize=(17,10))\n",
    "plt.xticks(rotation='vertical')\n",
    "fig = plt.bar(names,fit.scores_)\n"
   ]
  }
 ],
 "metadata": {
  "kernelspec": {
   "display_name": "Python 3",
   "language": "python",
   "name": "python3"
  },
  "language_info": {
   "codemirror_mode": {
    "name": "ipython",
    "version": 3
   },
   "file_extension": ".py",
   "mimetype": "text/x-python",
   "name": "python",
   "nbconvert_exporter": "python",
   "pygments_lexer": "ipython3",
   "version": "3.8.8"
  }
 },
 "nbformat": 4,
 "nbformat_minor": 5
}
