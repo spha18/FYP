{
 "cells": [
  {
   "cell_type": "code",
   "execution_count": 1,
   "id": "b9f353bc",
   "metadata": {
    "scrolled": true
   },
   "outputs": [],
   "source": [
    "import os\n",
    "import numpy as np\n",
    "import pandas as pd\n",
    "from tensorflow.keras.utils import to_categorical\n",
    "\n",
    "PNES_path =\"./pilot/PNES/output/\" # where the folders are saved\n",
    "ES_path =\"./pilot/ES/output/\"\n",
    "\n",
    "\n",
    "length = float('inf')\n",
    "PNESdata = []\n",
    "ESdata = []"
   ]
  },
  {
   "cell_type": "code",
   "execution_count": 2,
   "id": "48ab992a",
   "metadata": {},
   "outputs": [
    {
     "name": "stdout",
     "output_type": "stream",
     "text": [
      "3341\n",
      "3301\n"
     ]
    }
   ],
   "source": [
    "for folder in os.listdir(PNES_path):\n",
    "    index_path = os.path.join(PNES_path, folder) # where the jason files are saved\n",
    "    if os.path.isdir(index_path):\n",
    "        dataframe = pd.read_csv(os.path.join(index_path,'keypoints.csv'), header=None, skiprows=1)\n",
    "        rolavg = dataframe.rolling(100).mean()\n",
    "        rolavg = rolavg.dropna()\n",
    "        rolavg = rolavg.reset_index(drop=True)\n",
    "        PNESdata.append(rolavg.values)\n",
    "        if rolavg.values.shape[0] < length:\n",
    "            length = rolavg.values.shape[0]\n",
    "            print(length)"
   ]
  },
  {
   "cell_type": "code",
   "execution_count": 3,
   "id": "abaa06c9",
   "metadata": {},
   "outputs": [
    {
     "name": "stdout",
     "output_type": "stream",
     "text": [
      "3181\n",
      "2170\n"
     ]
    }
   ],
   "source": [
    "for folder in os.listdir(ES_path):\n",
    "    index_path = os.path.join(ES_path, folder) # where the jason files are saved\n",
    "    if os.path.isdir(index_path):\n",
    "        dataframe = pd.read_csv(os.path.join(index_path,'keypoints.csv'), header=None, skiprows=1)\n",
    "        rolavg = dataframe.rolling(100).mean()\n",
    "        rolavg = rolavg.dropna()\n",
    "        rolavg = rolavg.reset_index(drop=True)\n",
    "        ESdata.append(rolavg.values)\n",
    "        if rolavg.values.shape[0] < length:\n",
    "            length = rolavg.values.shape[0]\n",
    "            print(length)"
   ]
  },
  {
   "cell_type": "code",
   "execution_count": 4,
   "id": "8e8fc29f",
   "metadata": {},
   "outputs": [],
   "source": [
    "for idx, array in enumerate(PNESdata):\n",
    "    PNESdata[idx] = array[:length,::]\n",
    "    \n",
    "PNESarray = np.vstack(PNESdata)\n",
    "PNESarray = np.reshape(PNESarray, [PNESarray.shape[0], 1, PNESarray.shape[1]])\n",
    "PNESlabel = np.reshape(np.zeros(PNESarray.shape[0]),[PNESarray.shape[0],1])\n",
    "\n",
    "for idx, array in enumerate(ESdata):\n",
    "    ESdata[idx] = array[:length,::]\n",
    "    \n",
    "ESarray = np.vstack(ESdata)\n",
    "ESarray = np.reshape(ESarray,[ESarray.shape[0], 1, ESarray.shape[1]])\n",
    "ESlabel = np.reshape(np.ones(ESarray.shape[0]),[ESarray.shape[0],1])\n",
    "\n",
    "X = np.concatenate((PNESarray,ESarray),axis=0)\n",
    "y = np.concatenate((PNESlabel,ESlabel),axis=0)\n",
    "y = to_categorical(y)"
   ]
  },
  {
   "cell_type": "code",
   "execution_count": 5,
   "id": "940aa7e5",
   "metadata": {},
   "outputs": [
    {
     "name": "stdout",
     "output_type": "stream",
     "text": [
      "(23870, 1, 75)\n",
      "(34720, 1, 75)\n",
      "(23870, 1)\n",
      "(34720, 1)\n",
      "(58590, 1, 75)\n",
      "(58590, 2)\n"
     ]
    }
   ],
   "source": [
    "print(PNESarray.shape)\n",
    "print(ESarray.shape)\n",
    "print(PNESlabel.shape)\n",
    "print(ESlabel.shape)\n",
    "print(X.shape)\n",
    "print(y.shape)"
   ]
  },
  {
   "cell_type": "code",
   "execution_count": 6,
   "id": "db3d12b6",
   "metadata": {},
   "outputs": [],
   "source": [
    "outfile = \"./pilot/Datasets/OpenPose/frame_rolavg100.npz\"\n",
    "np.savez(outfile, X, y)"
   ]
  }
 ],
 "metadata": {
  "kernelspec": {
   "display_name": "Python 3",
   "language": "python",
   "name": "python3"
  },
  "language_info": {
   "codemirror_mode": {
    "name": "ipython",
    "version": 3
   },
   "file_extension": ".py",
   "mimetype": "text/x-python",
   "name": "python",
   "nbconvert_exporter": "python",
   "pygments_lexer": "ipython3",
   "version": "3.8.8"
  }
 },
 "nbformat": 4,
 "nbformat_minor": 5
}
