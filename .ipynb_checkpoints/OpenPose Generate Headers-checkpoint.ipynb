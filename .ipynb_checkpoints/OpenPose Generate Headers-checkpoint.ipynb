{
 "cells": [
  {
   "cell_type": "code",
   "execution_count": 12,
   "id": "ad2c342c",
   "metadata": {
    "scrolled": true
   },
   "outputs": [
    {
     "name": "stdout",
     "output_type": "stream",
     "text": [
      "Nose_x,Nose_y,Nose_c,Neck_x,Neck_y,Neck_c,RShoulder_x,RShoulder_y,RShoulder_c,RElbow_x,RElbow_y,RElbow_c,RWrist_x,RWrist_y,RWrist_c,LShoulder_x,LShoulder_y,LShoulder_c,LElbow_x,LElbow_y,LElbow_c,LWrist_x,LWrist_y,LWrist_c,MidHip_x,MidHip_y,MidHip_c,RHip_x,RHip_y,RHip_c,RKnee_x,RKnee_y,RKnee_c,RAnkle_x,RAnkle_y,RAnkle_c,LHip_x,LHip_y,LHip_c,LKnee_x,LKnee_y,LKnee_c,LAnkle_x,LAnkle_y,LAnkle_c,REye_x,REye_y,REye_c,LEye_x,LEye_y,LEye_c,REar_x,REar_y,REar_c,LEar_x,LEar_y,LEar_c,LBigToe_x,LBigToe_y,LBigToe_c,LSmallToe_x,LSmallToe_y,LSmallToe_c,LHeel_x,LHeel_y,LHeel_c,RBigToe_x,RBigToe_y,RBigToe_c,RSmallToe_x,RSmallToe_y,RSmallToe_c,RHeel_x,RHeel_y,RHeel_c\n"
     ]
    }
   ],
   "source": [
    "string = '//     {0,  \"Nose\"},//     {1,  \"Neck\"},//     {2,  \"RShoulder\"},//     {3,  \"RElbow\"},//     {4,  \"RWrist\"},//     {5,  \"LShoulder\"},//     {6,  \"LElbow\"},//     {7,  \"LWrist\"},//     {8,  \"MidHip\"},//     {9,  \"RHip\"},//     {10, \"RKnee\"},//     {11, \"RAnkle\"},//     {12, \"LHip\"},//     {13, \"LKnee\"},//     {14, \"LAnkle\"},//     {15, \"REye\"},//     {16, \"LEye\"},//     {17, \"REar\"},//     {18, \"LEar\"},//     {19, \"LBigToe\"},//     {20, \"LSmallToe\"},//     {21, \"LHeel\"},//     {22, \"RBigToe\"},//     {23, \"RSmallToe\"},//     {24, \"RHeel\"}\"'\n",
    "x = string.split()\n",
    "string = ''.join(x)\n",
    "x = string.split('//')\n",
    "string = ''.join(x)\n",
    "x = string.split('{')\n",
    "string = ''.join(x)\n",
    "x = string.split('}')\n",
    "string = ''.join(x)\n",
    "x = string.split('\"')\n",
    "string = ''.join(x)\n",
    "x = string.split(',')\n",
    "y = []\n",
    "for element in x:\n",
    "    if element.isalpha():\n",
    "        y.append(\"_\".join([element, \"x\"]))\n",
    "        y.append(\"_\".join([element, \"y\"]))\n",
    "        y.append(\"_\".join([element, \"c\"]))\n",
    "string = ','.join(y)\n",
    "print(string)"
   ]
  },
  {
   "cell_type": "code",
   "execution_count": 15,
   "id": "51bc6ca6",
   "metadata": {},
   "outputs": [
    {
     "name": "stdout",
     "output_type": "stream",
     "text": [
      "LHand_0_x,LHand_0_y,LHand_0_c,LHand_1_x,LHand_1_y,LHand_1_c,LHand_2_x,LHand_2_y,LHand_2_c,LHand_3_x,LHand_3_y,LHand_3_c,LHand_4_x,LHand_4_y,LHand_4_c,LHand_5_x,LHand_5_y,LHand_5_c,LHand_6_x,LHand_6_y,LHand_6_c,LHand_7_x,LHand_7_y,LHand_7_c,LHand_8_x,LHand_8_y,LHand_8_c,LHand_9_x,LHand_9_y,LHand_9_c,LHand_10_x,LHand_10_y,LHand_10_c,LHand_11_x,LHand_11_y,LHand_11_c,LHand_12_x,LHand_12_y,LHand_12_c,LHand_13_x,LHand_13_y,LHand_13_c,LHand_14_x,LHand_14_y,LHand_14_c,LHand_15_x,LHand_15_y,LHand_15_c,LHand_16_x,LHand_16_y,LHand_16_c,LHand_17_x,LHand_17_y,LHand_17_c,LHand_18_x,LHand_18_y,LHand_18_c,LHand_19_x,LHand_19_y,LHand_19_c,LHand_20_x,LHand_20_y,LHand_20_c,RHand_0_x,RHand_0_y,RHand_0_c,RHand_1_x,RHand_1_y,RHand_1_c,RHand_2_x,RHand_2_y,RHand_2_c,RHand_3_x,RHand_3_y,RHand_3_c,RHand_4_x,RHand_4_y,RHand_4_c,RHand_5_x,RHand_5_y,RHand_5_c,RHand_6_x,RHand_6_y,RHand_6_c,RHand_7_x,RHand_7_y,RHand_7_c,RHand_8_x,RHand_8_y,RHand_8_c,RHand_9_x,RHand_9_y,RHand_9_c,RHand_10_x,RHand_10_y,RHand_10_c,RHand_11_x,RHand_11_y,RHand_11_c,RHand_12_x,RHand_12_y,RHand_12_c,RHand_13_x,RHand_13_y,RHand_13_c,RHand_14_x,RHand_14_y,RHand_14_c,RHand_15_x,RHand_15_y,RHand_15_c,RHand_16_x,RHand_16_y,RHand_16_c,RHand_17_x,RHand_17_y,RHand_17_c,RHand_18_x,RHand_18_y,RHand_18_c,RHand_19_x,RHand_19_y,RHand_19_c,RHand_20_x,RHand_20_y,RHand_20_c\n"
     ]
    }
   ],
   "source": [
    "y = []\n",
    "\n",
    "for x in range(21):\n",
    "    y.append(\"_\".join([\"LHand\", str(x), \"x\"]))\n",
    "    y.append(\"_\".join([\"LHand\", str(x), \"y\"]))\n",
    "    y.append(\"_\".join([\"LHand\", str(x), \"c\"]))\n",
    "\n",
    "for x in range(21):\n",
    "    y.append(\"_\".join([\"RHand\", str(x), \"x\"]))\n",
    "    y.append(\"_\".join([\"RHand\", str(x), \"y\"]))\n",
    "    y.append(\"_\".join([\"RHand\", str(x), \"c\"]))\n",
    "    \n",
    "string = ','.join(y)\n",
    "\n",
    "print(string)"
   ]
  }
 ],
 "metadata": {
  "kernelspec": {
   "display_name": "Python 3",
   "language": "python",
   "name": "python3"
  },
  "language_info": {
   "codemirror_mode": {
    "name": "ipython",
    "version": 3
   },
   "file_extension": ".py",
   "mimetype": "text/x-python",
   "name": "python",
   "nbconvert_exporter": "python",
   "pygments_lexer": "ipython3",
   "version": "3.8.8"
  }
 },
 "nbformat": 4,
 "nbformat_minor": 5
}
